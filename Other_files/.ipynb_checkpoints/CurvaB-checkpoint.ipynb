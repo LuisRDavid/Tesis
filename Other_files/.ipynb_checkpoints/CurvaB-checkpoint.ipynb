{
 "cells": [
  {
   "cell_type": "code",
   "execution_count": 1,
   "metadata": {},
   "outputs": [
    {
     "ename": "ImportError",
     "evalue": "cannot import name 'LineraRegression' from 'sklearn.linear_model' (/home/luisrc/anaconda3/lib/python3.11/site-packages/sklearn/linear_model/__init__.py)",
     "output_type": "error",
     "traceback": [
      "\u001b[0;31m---------------------------------------------------------------------------\u001b[0m",
      "\u001b[0;31mImportError\u001b[0m                               Traceback (most recent call last)",
      "Cell \u001b[0;32mIn[1], line 5\u001b[0m\n\u001b[1;32m      3\u001b[0m \u001b[39mimport\u001b[39;00m \u001b[39mmatplotlib\u001b[39;00m \u001b[39mas\u001b[39;00m \u001b[39mmpl\u001b[39;00m\n\u001b[1;32m      4\u001b[0m \u001b[39mimport\u001b[39;00m \u001b[39mmatplotlib\u001b[39;00m\u001b[39m.\u001b[39;00m\u001b[39mpyplot\u001b[39;00m \u001b[39mas\u001b[39;00m \u001b[39mplt\u001b[39;00m\n\u001b[0;32m----> 5\u001b[0m \u001b[39mfrom\u001b[39;00m \u001b[39msklearn\u001b[39;00m\u001b[39m.\u001b[39;00m\u001b[39mlinear_model\u001b[39;00m \u001b[39mimport\u001b[39;00m LineraRegression\n\u001b[1;32m      6\u001b[0m \u001b[39mfrom\u001b[39;00m \u001b[39msklearn\u001b[39;00m\u001b[39m.\u001b[39;00m\u001b[39mmetrics\u001b[39;00m \u001b[39mimport\u001b[39;00m r2_score\n\u001b[1;32m      8\u001b[0m df \u001b[39m=\u001b[39m pd\u001b[39m.\u001b[39mread_csv(\u001b[39m'\u001b[39m\u001b[39m../Other_files/CurvaB208.csv\u001b[39m\u001b[39m'\u001b[39m)\n",
      "\u001b[0;31mImportError\u001b[0m: cannot import name 'LineraRegression' from 'sklearn.linear_model' (/home/luisrc/anaconda3/lib/python3.11/site-packages/sklearn/linear_model/__init__.py)"
     ]
    }
   ],
   "source": [
    "import pandas as pd\n",
    "import numpy as np\n",
    "import matplotlib as mpl\n",
    "import matplotlib.pyplot as plt\n",
    "from sklearn.linear_model import LinearRegression\n",
    "from sklearn.metrics import r2_score\n",
    "\n",
    "df = pd.read_csv('../Other_files/CurvaB208.csv')\n",
    "concentration = df['CONCENTRACION'].values.reshape(-1, 1)\n",
    "absorbance = df['ABS'].values.reshape(-1, 1)\n",
    "\n",
    "linearRegressor = LinearRegression()\n",
    "linearRegressor.fit(absorbance, concentration)\n",
    "concentration_predict = linearRegressor.predict(absorbance)\n",
    "concentration_predict\n",
    "m = linearRegressor.coef_[0][0]\n",
    "c = linearRegressor.intercept_[0]\n",
    "label = r'$DQO= %0.4fx %+0.4f$' % (m, c)\n",
    "print(label)\n",
    "R2 = r2_score(concentration, concentration_predict)\n",
    "print(R2)\n",
    "\n",
    "ax = fig.subplots()\n",
    "plt.scatter(absorbance, concentration, edgecolors='red')\n",
    "plt.plot(absorbance, concentration, color='blue', label='Datos experimentales')\n",
    "plt.plot(absorbance, concentration_predict,\n",
    "         color='red', label='Tendencia central')\n",
    "ax.text(0.04, 140, r'$R^2= %0.4f$' % (R2))\n",
    "ax.text(0.04, 200, label)\n",
    "ax.set_xlabel('Absorbance')\n",
    "ax.set_ylabel('Concentration')\n",
    "ax.set_title('DQO')\n",
    "plt.legend()\n",
    "plt.grid()\n",
    "plt.show()\n"
   ]
  }
 ],
 "metadata": {
  "kernelspec": {
   "display_name": "base",
   "language": "python",
   "name": "python3"
  },
  "language_info": {
   "codemirror_mode": {
    "name": "ipython",
    "version": 3
   },
   "file_extension": ".py",
   "mimetype": "text/x-python",
   "name": "python",
   "nbconvert_exporter": "python",
   "pygments_lexer": "ipython3",
   "version": "3.11.3"
  },
  "orig_nbformat": 4
 },
 "nbformat": 4,
 "nbformat_minor": 2
}
