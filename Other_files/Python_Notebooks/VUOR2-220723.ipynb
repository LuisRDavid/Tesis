{
 "cells": [
  {
   "cell_type": "markdown",
   "metadata": {},
   "source": [
    "### VUO para Reactor 2"
   ]
  },
  {
   "cell_type": "code",
   "execution_count": 28,
   "metadata": {},
   "outputs": [],
   "source": [
    "import pandas as pd\n",
    "import numpy as np\n",
    "import matplotlib as mpl\n",
    "import matplotlib.pyplot as plt\n",
    "from sklearn.linear_model import LinearRegression\n",
    "from sklearn.metrics import r2_score"
   ]
  },
  {
   "cell_type": "code",
   "execution_count": 29,
   "metadata": {},
   "outputs": [
    {
     "data": {
      "text/html": [
       "<div>\n",
       "<style scoped>\n",
       "    .dataframe tbody tr th:only-of-type {\n",
       "        vertical-align: middle;\n",
       "    }\n",
       "\n",
       "    .dataframe tbody tr th {\n",
       "        vertical-align: top;\n",
       "    }\n",
       "\n",
       "    .dataframe thead th {\n",
       "        text-align: right;\n",
       "    }\n",
       "</style>\n",
       "<table border=\"1\" class=\"dataframe\">\n",
       "  <thead>\n",
       "    <tr style=\"text-align: right;\">\n",
       "      <th></th>\n",
       "      <th>TIEMPO</th>\n",
       "      <th>OD_R1</th>\n",
       "      <th>OD_R2</th>\n",
       "      <th>OD_R3</th>\n",
       "      <th>OD_R4</th>\n",
       "    </tr>\n",
       "  </thead>\n",
       "  <tbody>\n",
       "    <tr>\n",
       "      <th>0</th>\n",
       "      <td>0</td>\n",
       "      <td>4.49</td>\n",
       "      <td>5.61</td>\n",
       "      <td>5.00</td>\n",
       "      <td>5.84</td>\n",
       "    </tr>\n",
       "    <tr>\n",
       "      <th>1</th>\n",
       "      <td>1</td>\n",
       "      <td>2.39</td>\n",
       "      <td>5.06</td>\n",
       "      <td>4.87</td>\n",
       "      <td>5.69</td>\n",
       "    </tr>\n",
       "    <tr>\n",
       "      <th>2</th>\n",
       "      <td>2</td>\n",
       "      <td>1.65</td>\n",
       "      <td>4.83</td>\n",
       "      <td>4.51</td>\n",
       "      <td>5.61</td>\n",
       "    </tr>\n",
       "    <tr>\n",
       "      <th>3</th>\n",
       "      <td>3</td>\n",
       "      <td>1.30</td>\n",
       "      <td>4.66</td>\n",
       "      <td>4.43</td>\n",
       "      <td>5.50</td>\n",
       "    </tr>\n",
       "    <tr>\n",
       "      <th>4</th>\n",
       "      <td>4</td>\n",
       "      <td>0.87</td>\n",
       "      <td>4.49</td>\n",
       "      <td>4.23</td>\n",
       "      <td>5.45</td>\n",
       "    </tr>\n",
       "    <tr>\n",
       "      <th>5</th>\n",
       "      <td>5</td>\n",
       "      <td>0.56</td>\n",
       "      <td>4.30</td>\n",
       "      <td>4.05</td>\n",
       "      <td>5.36</td>\n",
       "    </tr>\n",
       "    <tr>\n",
       "      <th>6</th>\n",
       "      <td>6</td>\n",
       "      <td>0.25</td>\n",
       "      <td>4.16</td>\n",
       "      <td>3.88</td>\n",
       "      <td>5.29</td>\n",
       "    </tr>\n",
       "    <tr>\n",
       "      <th>7</th>\n",
       "      <td>7</td>\n",
       "      <td>0.11</td>\n",
       "      <td>4.00</td>\n",
       "      <td>3.70</td>\n",
       "      <td>5.22</td>\n",
       "    </tr>\n",
       "    <tr>\n",
       "      <th>8</th>\n",
       "      <td>8</td>\n",
       "      <td>0.08</td>\n",
       "      <td>3.89</td>\n",
       "      <td>3.50</td>\n",
       "      <td>5.16</td>\n",
       "    </tr>\n",
       "    <tr>\n",
       "      <th>9</th>\n",
       "      <td>9</td>\n",
       "      <td>0.08</td>\n",
       "      <td>3.72</td>\n",
       "      <td>3.35</td>\n",
       "      <td>5.08</td>\n",
       "    </tr>\n",
       "    <tr>\n",
       "      <th>10</th>\n",
       "      <td>10</td>\n",
       "      <td>0.07</td>\n",
       "      <td>3.60</td>\n",
       "      <td>3.19</td>\n",
       "      <td>4.99</td>\n",
       "    </tr>\n",
       "    <tr>\n",
       "      <th>11</th>\n",
       "      <td>11</td>\n",
       "      <td>0.07</td>\n",
       "      <td>3.44</td>\n",
       "      <td>2.98</td>\n",
       "      <td>4.94</td>\n",
       "    </tr>\n",
       "    <tr>\n",
       "      <th>12</th>\n",
       "      <td>12</td>\n",
       "      <td>0.07</td>\n",
       "      <td>3.33</td>\n",
       "      <td>2.86</td>\n",
       "      <td>4.86</td>\n",
       "    </tr>\n",
       "    <tr>\n",
       "      <th>13</th>\n",
       "      <td>13</td>\n",
       "      <td>0.06</td>\n",
       "      <td>3.19</td>\n",
       "      <td>2.70</td>\n",
       "      <td>4.79</td>\n",
       "    </tr>\n",
       "    <tr>\n",
       "      <th>14</th>\n",
       "      <td>14</td>\n",
       "      <td>0.06</td>\n",
       "      <td>3.03</td>\n",
       "      <td>2.54</td>\n",
       "      <td>4.70</td>\n",
       "    </tr>\n",
       "    <tr>\n",
       "      <th>15</th>\n",
       "      <td>15</td>\n",
       "      <td>0.06</td>\n",
       "      <td>2.90</td>\n",
       "      <td>2.35</td>\n",
       "      <td>4.62</td>\n",
       "    </tr>\n",
       "    <tr>\n",
       "      <th>16</th>\n",
       "      <td>16</td>\n",
       "      <td>0.06</td>\n",
       "      <td>2.79</td>\n",
       "      <td>2.19</td>\n",
       "      <td>4.57</td>\n",
       "    </tr>\n",
       "    <tr>\n",
       "      <th>17</th>\n",
       "      <td>17</td>\n",
       "      <td>0.06</td>\n",
       "      <td>2.65</td>\n",
       "      <td>2.08</td>\n",
       "      <td>4.51</td>\n",
       "    </tr>\n",
       "    <tr>\n",
       "      <th>18</th>\n",
       "      <td>18</td>\n",
       "      <td>0.06</td>\n",
       "      <td>2.53</td>\n",
       "      <td>1.88</td>\n",
       "      <td>4.42</td>\n",
       "    </tr>\n",
       "    <tr>\n",
       "      <th>19</th>\n",
       "      <td>19</td>\n",
       "      <td>0.05</td>\n",
       "      <td>2.39</td>\n",
       "      <td>1.68</td>\n",
       "      <td>4.36</td>\n",
       "    </tr>\n",
       "    <tr>\n",
       "      <th>20</th>\n",
       "      <td>20</td>\n",
       "      <td>0.05</td>\n",
       "      <td>2.26</td>\n",
       "      <td>1.56</td>\n",
       "      <td>4.28</td>\n",
       "    </tr>\n",
       "  </tbody>\n",
       "</table>\n",
       "</div>"
      ],
      "text/plain": [
       "    TIEMPO   OD_R1   OD_R2   OD_R3   OD_R4\n",
       "0        0    4.49    5.61    5.00    5.84\n",
       "1        1    2.39    5.06    4.87    5.69\n",
       "2        2    1.65    4.83    4.51    5.61\n",
       "3        3    1.30    4.66    4.43    5.50\n",
       "4        4    0.87    4.49    4.23    5.45\n",
       "5        5    0.56    4.30    4.05    5.36\n",
       "6        6    0.25    4.16    3.88    5.29\n",
       "7        7    0.11    4.00    3.70    5.22\n",
       "8        8    0.08    3.89    3.50    5.16\n",
       "9        9    0.08    3.72    3.35    5.08\n",
       "10      10    0.07    3.60    3.19    4.99\n",
       "11      11    0.07    3.44    2.98    4.94\n",
       "12      12    0.07    3.33    2.86    4.86\n",
       "13      13    0.06    3.19    2.70    4.79\n",
       "14      14    0.06    3.03    2.54    4.70\n",
       "15      15    0.06    2.90    2.35    4.62\n",
       "16      16    0.06    2.79    2.19    4.57\n",
       "17      17    0.06    2.65    2.08    4.51\n",
       "18      18    0.06    2.53    1.88    4.42\n",
       "19      19    0.05    2.39    1.68    4.36\n",
       "20      20    0.05    2.26    1.56    4.28"
      ]
     },
     "execution_count": 29,
     "metadata": {},
     "output_type": "execute_result"
    }
   ],
   "source": [
    "df = pd.read_csv('../VUO-220723.csv')\n",
    "df"
   ]
  },
  {
   "cell_type": "code",
   "execution_count": 30,
   "metadata": {},
   "outputs": [
    {
     "data": {
      "image/png": "[encoded data removed]",
      "text/plain": [
       "<Figure size 640x480 with 1 Axes>"
      ]
     },
     "metadata": {},
     "output_type": "display_data"
    }
   ],
   "source": [
    "time = df['TIEMPO'].values.reshape(-1,1)\n",
    "od = df[' OD_R2'].values.reshape(-1,1)\n",
    "fig = plt.figure()\n",
    "plt.plot(time[2:], od[2:])\n",
    "plt.grid(visible=True)"
   ]
  },
  {
   "cell_type": "code",
   "execution_count": 34,
   "metadata": {},
   "outputs": [
    {
     "name": "stdout",
     "output_type": "stream",
     "text": [
      "$VUO= -0.1405x +5.0273$\n",
      "-2.1846382668513384\n"
     ]
    }
   ],
   "source": [
    "linearRegressor = LinearRegression()\n",
    "linearRegressor.fit(time[2:], od[2:])\n",
    "odPredict = linearRegressor.predict(time[2:])\n",
    "odPredict\n",
    "m = linearRegressor.coef_[0][0]\n",
    "c = linearRegressor.intercept_[0]\n",
    "label = r'$VUO= %0.4fx %+0.4f$' % (m, c)\n",
    "print(label)\n",
    "R2 = r2_score(time[2:], odPredict)\n",
    "print(R2)"
   ]
  },
  {
   "cell_type": "code",
   "execution_count": 32,
   "metadata": {},
   "outputs": [
    {
     "data": {
      "text/plain": [
       "Text(2.5, 2.5, '$R^2= -2.1846$')"
      ]
     },
     "execution_count": 32,
     "metadata": {},
     "output_type": "execute_result"
    },
    {
     "data": {
      "image/png": "[encoded data removed]",
      "text/plain": [
       "<Figure size 640x480 with 1 Axes>"
      ]
     },
     "metadata": {},
     "output_type": "display_data"
    }
   ],
   "source": [
    "fig = plt.figure()\n",
    "ax = fig.subplots()\n",
    "plt.plot(time[2:], od[2:])\n",
    "plt.plot(time[2:], odPredict)\n",
    "plt.grid(visible=True)\n",
    "ax.text(2.5, 3.5, label)\n",
    "ax.text(2.5, 2.5, r'$R^2= %0.4f$'%(R2))"
   ]
  },
  {
   "cell_type": "code",
   "execution_count": null,
   "metadata": {},
   "outputs": [],
   "source": []
  }
 ],
 "metadata": {
  "kernelspec": {
   "display_name": "base",
   "language": "python",
   "name": "python3"
  },
  "language_info": {
   "codemirror_mode": {
    "name": "ipython",
    "version": 3
   },
   "file_extension": ".py",
   "mimetype": "text/x-python",
   "name": "python",
   "nbconvert_exporter": "python",
   "pygments_lexer": "ipython3",
   "version": "3.11.3"
  },
  "orig_nbformat": 4
 },
 "nbformat": 4,
 "nbformat_minor": 2
}
